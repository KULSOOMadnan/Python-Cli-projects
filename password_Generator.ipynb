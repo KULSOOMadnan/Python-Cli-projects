{
  "nbformat": 4,
  "nbformat_minor": 0,
  "metadata": {
    "colab": {
      "provenance": [],
      "authorship_tag": "ABX9TyPxvcdUcTtV7qfJph6go8sC",
      "include_colab_link": true
    },
    "kernelspec": {
      "name": "python3",
      "display_name": "Python 3"
    },
    "language_info": {
      "name": "python"
    }
  },
  "cells": [
    {
      "cell_type": "markdown",
      "metadata": {
        "id": "view-in-github",
        "colab_type": "text"
      },
      "source": [
        "<a href=\"https://colab.research.google.com/github/KULSOOMadnan/Python-Cli-projects/blob/main/password_Generator.ipynb\" target=\"_parent\"><img src=\"https://colab.research.google.com/assets/colab-badge.svg\" alt=\"Open In Colab\"/></a>"
      ]
    },
    {
      "cell_type": "code",
      "execution_count": null,
      "metadata": {
        "id": "rOCyEJtTe6OE"
      },
      "outputs": [],
      "source": [
        "# Import random module for generating random characters\n",
        "import random\n",
        "\n",
        "# Display welcome message with ASCII art\n",
        "print(\"\"\"\n",
        "╔═══════════════════════════════════════╗\n",
        "║     Welcome to Password Generator     ║\n",
        "║     Your Security, Our Priority!      ║\n",
        "╚═══════════════════════════════════════╝\n",
        "\"\"\")\n",
        "\n",
        "# String containing all possible characters for password\n",
        "chars = \"abcdefghijklmnopqrstuvwxyzABCDEFGHIJKLMNOPQRSTUVWXYZ!@#$%^&*().,1234567890\"\n",
        "\n",
        "# Get user input for number of passwords to generate\n",
        "number_of_passwords = int(input(\"Amount of passwords to generate: \"))\n",
        "\n",
        "# Get user input for password length\n",
        "length = int(input(\"Enter your password length: \"))\n",
        "\n",
        "print(\"\\nHere are your passwords:\")\n",
        "\n",
        "# Outer loop: Generate multiple passwords\n",
        "for pwd in range(number_of_passwords):\n",
        "    passwords = \"\"\n",
        "    # Inner loop: Build each password character by character\n",
        "    for c in range(length):\n",
        "        # Add a random character from chars string to the password\n",
        "        passwords += random.choice(chars)\n",
        "    # Print each generated password\n",
        "    print(passwords)\n",
        "\n",
        "print(\"\\n🔐 Keep your passwords safe! 🔐\")\n"
      ]
    }
  ]
}