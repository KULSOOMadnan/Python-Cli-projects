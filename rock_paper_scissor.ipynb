{
  "nbformat": 4,
  "nbformat_minor": 0,
  "metadata": {
    "colab": {
      "provenance": [],
      "toc_visible": true,
      "authorship_tag": "ABX9TyPG+3u88NSjkWfs6WDBLVJP",
      "include_colab_link": true
    },
    "kernelspec": {
      "name": "python3",
      "display_name": "Python 3"
    },
    "language_info": {
      "name": "python"
    }
  },
  "cells": [
    {
      "cell_type": "markdown",
      "metadata": {
        "id": "view-in-github",
        "colab_type": "text"
      },
      "source": [
        "<a href=\"https://colab.research.google.com/github/KULSOOMadnan/Python-Cli-projects/blob/main/rock_paper_scissor.ipynb\" target=\"_parent\"><img src=\"https://colab.research.google.com/assets/colab-badge.svg\" alt=\"Open In Colab\"/></a>"
      ]
    },
    {
      "cell_type": "code",
      "source": [
        "import random\n",
        "\n",
        "def game():\n",
        "    \"\"\"Plays a game of Rock, Paper, Scissors with the user and keeps score.\"\"\"\n",
        "    user_score = 0\n",
        "    computer_score = 0\n",
        "    ties = 0\n",
        "\n",
        "    while True:\n",
        "        user_choice = input(\"Enter a choice (rock, paper, scissors): write q to quit\").lower()\n",
        "        if user_choice == \"q\":\n",
        "            break  # Exit the loop when the user types 'quit'\n",
        "        if user_choice not in [\"rock\", \"paper\", \"scissors\"]:\n",
        "            print(\"Invalid choice. Please choose rock, paper, or scissors.\")\n",
        "            continue\n",
        "\n",
        "        computer_choice = random.choice([\"rock\", \"paper\", \"scissors\"])\n",
        "\n",
        "        print(f\"You chose: {user_choice}, Computer chose: {computer_choice}\")\n",
        "\n",
        "        if user_choice == computer_choice:\n",
        "            print(\"It's a tie!\")\n",
        "            ties +=1\n",
        "        elif winner(user_choice, computer_choice):\n",
        "            print(\"You win!\")\n",
        "            user_score += 1\n",
        "        else:\n",
        "            print(\"Computer wins!\")\n",
        "            computer_score += 1\n",
        "\n",
        "    print(\"\\nGame Over!\")\n",
        "    print(f\"Your score: {user_score}\")\n",
        "    print(f\"Computer score: {computer_score}\")\n",
        "    print(f\"Ties: {ties}\")\n",
        "    print(\"Thanks for playing! Goodbye.\")\n",
        "\n",
        "\n",
        "def winner(user_choice, computer_choice):\n",
        "    \"\"\"Determines the winner of the round.\"\"\"\n",
        "    if (user_choice == 'rock' and computer_choice == \"scissors\") or \\\n",
        "       (user_choice == \"paper\" and computer_choice == \"rock\") or \\\n",
        "       (user_choice == \"scissors\" and computer_choice == \"paper\"):\n",
        "        return True\n",
        "    return False  # Explicitly return False if no winning condition is met\n",
        "\n",
        "# Start the game\n",
        "game()"
      ],
      "metadata": {
        "colab": {
          "base_uri": "https://localhost:8080/"
        },
        "id": "1ptJ5XvqyNVk",
        "outputId": "dcf6f73f-b585-413f-9638-08103907212d"
      },
      "execution_count": null,
      "outputs": [
        {
          "output_type": "stream",
          "name": "stdout",
          "text": [
            "Enter a choice (rock, paper, scissors): write q to quitq\n",
            "\n",
            "Game Over!\n",
            "Your score: 0\n",
            "Computer score: 0\n",
            "Ties: 0\n",
            "Thanks for playing! Goodbye.\n"
          ]
        }
      ]
    }
  ]
}