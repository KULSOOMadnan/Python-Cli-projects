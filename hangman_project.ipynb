{
  "nbformat": 4,
  "nbformat_minor": 0,
  "metadata": {
    "colab": {
      "provenance": [],
      "authorship_tag": "ABX9TyOytPe5t1WMN+3aQcGaGcN6",
      "include_colab_link": true
    },
    "kernelspec": {
      "name": "python3",
      "display_name": "Python 3"
    },
    "language_info": {
      "name": "python"
    }
  },
  "cells": [
    {
      "cell_type": "markdown",
      "metadata": {
        "id": "view-in-github",
        "colab_type": "text"
      },
      "source": [
        "<a href=\"https://colab.research.google.com/github/KULSOOMadnan/Python-Cli-projects/blob/main/hangman_project.ipynb\" target=\"_parent\"><img src=\"https://colab.research.google.com/assets/colab-badge.svg\" alt=\"Open In Colab\"/></a>"
      ]
    },
    {
      "cell_type": "markdown",
      "source": [
        "# **Hangman Project**\n"
      ],
      "metadata": {
        "id": "ujxsB2y2y0Bt"
      }
    },
    {
      "source": [
        "import requests\n",
        "import random\n",
        "import string\n",
        "from typing import List, Dict, Set\n",
        "\n",
        "\n",
        "url = \"https://www.randomlists.com/data/words.json\"\n",
        "response  = requests.get(url)\n",
        "# Print welcome message with line breaks\n",
        "print(\"\\n\" + \"=\"*60)\n",
        "print(\"\\n\\t\" + \"Welcome to Hangman!\")\n",
        "print(\"Try to guess the word one letter at a time.\")\n",
        "print(\"You have 6 lives. Good luck!\")\n",
        "print(\"\\n\\t\"+\"=\"*50 + \"\")\n",
        "\n",
        "\n",
        "\n",
        "if response.status_code == 200:\n",
        "    data = response.json()\n",
        "else:\n",
        "    print(f\"Error: {response.status_code}\")\n",
        "    data : dict[str , str] = {}  # Assign an empty dictionary to data\n",
        "\n",
        "words = data.get('data', [])  # Use get() with a default value\n",
        "\n",
        "\n",
        "\n",
        "def get_valid_words(words: List[str]) -> str:\n",
        "    word = random.choice(words)\n",
        "    while '_' in word or \" \" in word:\n",
        "        word = random.choice(words)\n",
        "    return word.upper()  # Convert word to uppercase\n",
        "\n",
        "def hangman(words: List[str]) -> None:\n",
        "    # getting a random word from the list\n",
        "    word: str = get_valid_words(words)\n",
        "    word_letters: Set[str] = set(word) # letters in the word\n",
        "    alphabet: Set[str] = set(string.ascii_uppercase)\n",
        "    used_letters : Set[str] = set()# what user has guessed\n",
        "    lives = 8  # Add lives counter\n",
        "\n",
        "    # getting user input\n",
        "    while len(word_letters) > 0 and lives > 0:\n",
        "        print(\"\\nYou have\", lives, \"lives left.\")\n",
        "        print(\"You have used these letters: \", \" \".join(sorted(used_letters)))\n",
        "\n",
        "        # Show current word state\n",
        "        word_list = [letter if letter in used_letters else '_' for letter in word]\n",
        "        print(\"Current word:\", \" \".join(word_list))\n",
        "\n",
        "        user_letter = input(\"\\nGuess a letter: \").upper()\n",
        "        if user_letter in alphabet - used_letters:\n",
        "            used_letters.add(user_letter)\n",
        "            if user_letter in word_letters:\n",
        "                word_letters.remove(user_letter)\n",
        "                print(\"Good guess!\")\n",
        "            else:\n",
        "                lives = lives - 1\n",
        "                print(\"Wrong guess!\")\n",
        "\n",
        "        elif user_letter in used_letters:\n",
        "            print(\"You have already used that character. Please try again.\")\n",
        "\n",
        "        else:\n",
        "            print(\"Invalid character. Please try again.\")\n",
        "\n",
        "    # Game end\n",
        "    if lives == 0:\n",
        "        print(\"\\nSorry, you died. The word was\", word)\n",
        "    else:\n",
        "        print(\"\\nCongratulations! You guessed the word\", word)\n",
        "        print( \"\\n\\t\" +\"=\"*50 + \"\\n\")\n",
        "\n",
        "\n",
        "hangman(words)"
      ],
      "cell_type": "code",
      "metadata": {
        "id": "JjnGsu9s4Lg9",
        "colab": {
          "base_uri": "https://localhost:8080/"
        },
        "outputId": "d6e4fffb-0da3-4b46-e601-ddf75281dcf6"
      },
      "execution_count": null,
      "outputs": [
        {
          "metadata": {
            "tags": null
          },
          "name": "stdout",
          "output_type": "stream",
          "text": [
            "\n",
            "You have 6 lives left.\n",
            "You have used these letters:  \n",
            "Current word: _ _ _ _\n"
          ]
        }
      ]
    }
  ]
}