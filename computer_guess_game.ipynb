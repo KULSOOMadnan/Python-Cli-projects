{
  "nbformat": 4,
  "nbformat_minor": 0,
  "metadata": {
    "colab": {
      "provenance": [],
      "authorship_tag": "ABX9TyNEpFh6mClKaThXeyC5Conq",
      "include_colab_link": true
    },
    "kernelspec": {
      "name": "python3",
      "display_name": "Python 3"
    },
    "language_info": {
      "name": "python"
    }
  },
  "cells": [
    {
      "cell_type": "markdown",
      "metadata": {
        "id": "view-in-github",
        "colab_type": "text"
      },
      "source": [
        "<a href=\"https://colab.research.google.com/github/KULSOOMadnan/Python-Cli-projects/blob/main/computer_guess_game.ipynb\" target=\"_parent\"><img src=\"https://colab.research.google.com/assets/colab-badge.svg\" alt=\"Open In Colab\"/></a>"
      ]
    },
    {
      "cell_type": "code",
      "execution_count": null,
      "metadata": {
        "id": "QvYM7kJSjwEI",
        "colab": {
          "base_uri": "https://localhost:8080/"
        },
        "outputId": "83f4b82f-41bd-4abf-af60-a08fef4303fd"
      },
      "outputs": [
        {
          "output_type": "stream",
          "name": "stdout",
          "text": [
            "Is 5 too high (H) low (L) or correct (c) h\n",
            "Is 3 too high (H) low (L) or correct (c) l\n",
            "Is 6 too high (H) low (L) or correct (c) c\n",
            "yay! the Computer Guesses your Number . 6 , Correctly\n"
          ]
        }
      ],
      "source": [
        "import random\n",
        "\n",
        "def computer_guess(x):\n",
        "    low = 1\n",
        "    high = x\n",
        "    feedback = ''\n",
        "\n",
        "    while feedback != \"c\":\n",
        "        if low != high:\n",
        "            guess = random.randint(low, high)\n",
        "        else:\n",
        "            guess = low\n",
        "        feedback = input( f'Is {guess} too high (H) low (L) or correct (c) ').lower()\n",
        "        if feedback == 'h':\n",
        "            high == guess - 1\n",
        "        elif feedback == 'l':\n",
        "            low = guess + 1\n",
        "    print(f'yay! the Computer Guesses your Number . {guess} , Correctly')\n",
        "\n",
        "\n",
        "computer_guess(10)"
      ]
    }
  ]
}