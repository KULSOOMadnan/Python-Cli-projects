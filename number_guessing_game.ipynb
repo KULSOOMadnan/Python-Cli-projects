{
  "nbformat": 4,
  "nbformat_minor": 0,
  "metadata": {
    "colab": {
      "provenance": [],
      "authorship_tag": "ABX9TyNsjdIqHq4l3ZvIyG9RCesF",
      "include_colab_link": true
    },
    "kernelspec": {
      "name": "python3",
      "display_name": "Python 3"
    },
    "language_info": {
      "name": "python"
    }
  },
  "cells": [
    {
      "cell_type": "markdown",
      "metadata": {
        "id": "view-in-github",
        "colab_type": "text"
      },
      "source": [
        "<a href=\"https://colab.research.google.com/github/KULSOOMadnan/Python-Cli-projects/blob/main/number_guessing_game.ipynb\" target=\"_parent\"><img src=\"https://colab.research.google.com/assets/colab-badge.svg\" alt=\"Open In Colab\"/></a>"
      ]
    },
    {
      "cell_type": "markdown",
      "source": [],
      "metadata": {
        "id": "LRDjI6KWMAk3"
      }
    },
    {
      "cell_type": "markdown",
      "source": [
        "# **Guess the Number Game  **"
      ],
      "metadata": {
        "id": "4pZLmj6-MBiA"
      }
    },
    {
      "cell_type": "markdown",
      "source": [],
      "metadata": {
        "id": "ZxN2oaCTLPQr"
      }
    },
    {
      "source": [
        "import random\n",
        "\n",
        "def number_guessing(upper_bound):\n",
        "    print('\\n Welcome to the Number Guessing Game \\n')\n",
        "    attempts = 0\n",
        "\n",
        "    while True:\n",
        "        random_number = random.randint(0, upper_bound)\n",
        "        user_guess = input(f'Guess the Number between (0 to {upper_bound}) write q to quite : ')\n",
        "\n",
        "        if user_guess == 'q':\n",
        "            print('Thanks for playing!')\n",
        "            break\n",
        "\n",
        "        try:\n",
        "            user_guess = int(user_guess)\n",
        "            if user_guess < 0 or user_guess > upper_bound:\n",
        "                print(f\"Please enter a number within the range 0 to {upper_bound}.\")\n",
        "                continue\n",
        "        except ValueError:\n",
        "            print(f\"Invalid input. Please enter a number between 0 and {upper_bound}.\")\n",
        "            continue\n",
        "\n",
        "        attempts += 1\n",
        "\n",
        "        if user_guess < random_number:\n",
        "            print(f'Your guess is too low. The correct number was {random_number}.')\n",
        "        elif user_guess > random_number:\n",
        "            print(f'Your guess is too high. The correct number was {random_number}.')\n",
        "        else:\n",
        "            print(f'Yay!🎉 You guessed the right number: {random_number}')\n",
        "            print(f'It took you {attempts} attempts.')\n",
        "            break\n",
        "\n",
        "upper_bound = 6  # You can change this to adjust the range\n",
        "number_guessing(upper_bound)"
      ],
      "cell_type": "code",
      "metadata": {
        "colab": {
          "base_uri": "https://localhost:8080/"
        },
        "id": "SLIoQJJDlZ2e",
        "outputId": "63664ce7-70f0-4bcf-ba95-8cb87a39edc0"
      },
      "execution_count": null,
      "outputs": [
        {
          "output_type": "stream",
          "name": "stdout",
          "text": [
            "\n",
            " Welcome to the Number Guessing Game \n",
            "\n",
            "Guess the Number between (0 to 6) write q to quite : ewr\n",
            "Invalid input. Please enter a number between 0 and 6.\n",
            "Guess the Number between (0 to 6) write q to quite : 1\n",
            "Your guess is too high. The correct number was 0.\n",
            "Guess the Number between (0 to 6) write q to quite : 4\n",
            "Your guess is too high. The correct number was 1.\n",
            "Guess the Number between (0 to 6) write q to quite : 3\n",
            "Your guess is too high. The correct number was 0.\n",
            "Guess the Number between (0 to 6) write q to quite : 0\n",
            "Your guess is too low. The correct number was 5.\n",
            "Guess the Number between (0 to 6) write q to quite : 3\n",
            "Your guess is too low. The correct number was 6.\n",
            "Guess the Number between (0 to 6) write q to quite : 3\n",
            "Your guess is too high. The correct number was 1.\n",
            "Guess the Number between (0 to 6) write q to quite : \n",
            "Invalid input. Please enter a number between 0 and 6.\n",
            "Guess the Number between (0 to 6) write q to quite : 4\n",
            "Your guess is too high. The correct number was 2.\n",
            "Guess the Number between (0 to 6) write q to quite : 2\n",
            "Yay!🎉 You guessed the right number: 2\n",
            "It took you 8 attempts.\n"
          ]
        }
      ]
    }
  ]
}