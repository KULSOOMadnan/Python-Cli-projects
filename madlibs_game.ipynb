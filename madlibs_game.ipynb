{
  "nbformat": 4,
  "nbformat_minor": 0,
  "metadata": {
    "colab": {
      "provenance": [],
      "authorship_tag": "ABX9TyO3oZF/AZv9ITuSMdqx/JFH",
      "include_colab_link": true
    },
    "kernelspec": {
      "name": "python3",
      "display_name": "Python 3"
    },
    "language_info": {
      "name": "python"
    }
  },
  "cells": [
    {
      "cell_type": "markdown",
      "metadata": {
        "id": "view-in-github",
        "colab_type": "text"
      },
      "source": [
        "<a href=\"https://colab.research.google.com/github/KULSOOMadnan/Python-Cli-projects/blob/main/madlibs_game.ipynb\" target=\"_parent\"><img src=\"https://colab.research.google.com/assets/colab-badge.svg\" alt=\"Open In Colab\"/></a>"
      ]
    },
    {
      "cell_type": "markdown",
      "source": [
        "# **`Madlibs-Game !!!`**\n"
      ],
      "metadata": {
        "id": "nAcnMUuI1S3A"
      }
    },
    {
      "cell_type": "code",
      "execution_count": null,
      "metadata": {
        "id": "ck_dD1Ia0WF3",
        "colab": {
          "base_uri": "https://localhost:8080/",
          "height": 243
        },
        "outputId": "7b3a25aa-dc2a-4dfb-da0c-1eb15d14f231"
      },
      "outputs": [
        {
          "output_type": "stream",
          "name": "stdout",
          "text": [
            "Enter an adjective: Advance\n",
            "Enter another adjective: Nothing \n",
            "Enter a type of bird: Spparow\n",
            "Enter a room in a house: Beautifull\n",
            "Enter a verb ending in -ing: calling\n",
            "Enter a noun: Place\n",
            "Enter a number: 2\n",
            "Enter a plural noun: mouses\n",
            "\n",
            "Here's your Madlib story:\n",
            "\n"
          ]
        },
        {
          "output_type": "execute_result",
          "data": {
            "text/plain": [
              "\"It was a Advance, cold November day. I woke up to the Nothing  smell of Spparow roasting in the Beautifull downstairs. I calling down the stairs to see if I could help Place the dinner. My mom said, 'See if there are any 2 mouses that need to be replaced.'\""
            ],
            "application/vnd.google.colaboratory.intrinsic+json": {
              "type": "string"
            }
          },
          "metadata": {},
          "execution_count": 1
        }
      ],
      "source": [
        "# prompt: write a code in Madlibs code in which user give some words the n orint that words in a paragraph\n",
        "\n",
        "# Madlibs -Game !!!\n",
        "\n",
        "# Collect user inputs\n",
        "adjective1 = input(\"Enter an adjective: \")\n",
        "adjective2 = input(\"Enter another adjective: \")\n",
        "bird_type = input(\"Enter a type of bird: \")\n",
        "room_in_a_house = input(\"Enter a room in a house: \")\n",
        "verb_ending_in_ing = input(\"Enter a verb ending in -ing: \")\n",
        "noun = input(\"Enter a noun: \")\n",
        "number = input(\"Enter a number: \")\n",
        "plural_noun = input(\"Enter a plural noun: \")\n",
        "\n",
        "\n",
        "# Create the Madlib story\n",
        "madlib_story = f\"It was a {adjective1}, cold November day. I woke up to the {adjective2} smell of \\\n",
        "{bird_type} roasting in the {room_in_a_house} downstairs. I {verb_ending_in_ing} down the stairs to see \\\n",
        "if I could help {noun} the dinner. My mom said, 'See if there are any {number} {plural_noun} that need to be replaced.'\"\n",
        "\n",
        "\n",
        "# Print the Madlib story\n",
        "print(\"\\nHere's your Madlib story:\\n\")\n",
        "madlib_story\n"
      ]
    },
    {
      "cell_type": "code",
      "source": [],
      "metadata": {
        "id": "ybv1k-ybBU8J"
      },
      "execution_count": null,
      "outputs": []
    }
  ]
}